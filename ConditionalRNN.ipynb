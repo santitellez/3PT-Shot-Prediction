{
 "cells": [
  {
   "cell_type": "code",
   "execution_count": 1,
   "metadata": {},
   "outputs": [],
   "source": [
    "# Conditional RNN training"
   ]
  },
  {
   "cell_type": "code",
   "execution_count": 2,
   "metadata": {},
   "outputs": [
    {
     "name": "stdout",
     "output_type": "stream",
     "text": [
      "Collecting cond-rnn\n",
      "  Downloading https://files.pythonhosted.org/packages/0f/f3/6dc58eca3e5d454e39c22d23dcb192a901a98107d111a75996a7735aff16/cond_rnn-1.4-py2.py3-none-any.whl\n",
      "Installing collected packages: cond-rnn\n",
      "Successfully installed cond-rnn-1.4\n"
     ]
    }
   ],
   "source": [
    "import numpy as np\n",
    "import tensorflow as tf\n",
    "from cond_rnn import ConditionalRNN\n",
    "\n",
    "batch_size = 50\n",
    "time_steps = 25\n",
    "input_dim = 3\n",
    "cond_dim = 5\n",
    "num_cells = 10\n",
    "\n",
    "inputs = tf.constant(dtype = tf.float32, \n",
    "                     value = np.random.uniform(size=(batch_size, time_steps, input_dim)))\n",
    "cond = tf.constant(dtype=tf.float32, \n",
    "                   value = np.random.standard_normal(size=(batch_size, cond_dim)))\n",
    "\n",
    "outputs = ConditionalRNN(num_cells, cell = 'LSTM', cond = cond, return_sequences = True)(inputs)"
   ]
  },
  {
   "cell_type": "code",
   "execution_count": null,
   "metadata": {},
   "outputs": [],
   "source": []
  }
 ],
 "metadata": {
  "kernelspec": {
   "display_name": "Python 3.6",
   "language": "python",
   "name": "python3"
  },
  "language_info": {
   "codemirror_mode": {
    "name": "ipython",
    "version": 2
   },
   "file_extension": ".py",
   "mimetype": "text/x-python",
   "name": "python",
   "nbconvert_exporter": "python",
   "pygments_lexer": "ipython2",
   "version": "2.7.16"
  }
 },
 "nbformat": 4,
 "nbformat_minor": 2
}
